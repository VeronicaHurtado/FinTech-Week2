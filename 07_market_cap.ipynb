{
 "cells": [
  {
   "cell_type": "code",
   "execution_count": 5,
   "id": "51f39174-75c4-4a74-949c-2795f7758aa8",
   "metadata": {},
   "outputs": [],
   "source": [
    "banks = {\n",
    "    \"JP Morgan Chase\": 327,\n",
    "    \"Bank of America\": 302,\n",
    "    \"Citigroup\": 173,\n",
    "    \"Wells Fargo\": 273,\n",
    "    \"Goldman Sachs\": 87,\n",
    "    \"Morgan Stanley\": 72,\n",
    "    \"U.S. Bancorp\": 83,\n",
    "    \"TD Bank\": 108,\n",
    "    \"PNC Financial Services\": 67,\n",
    "    \"Capital One\": 47,\n",
    "    \"FNB Corporation\": 4,\n",
    "    \"First Hawaiian Bank\": 3,\n",
    "    \"Ally Financial\": 12,\n",
    "    \"Wachovia\": 145,\n",
    "    \"Republic Bancorp\": .97\n",
    "}"
   ]
  },
  {
   "cell_type": "code",
   "execution_count": 6,
   "id": "5e3cc079-0c6e-44f9-876e-2ee52f89edf5",
   "metadata": {},
   "outputs": [],
   "source": [
    "banks['Citigroup'] = 170"
   ]
  },
  {
   "cell_type": "code",
   "execution_count": 7,
   "id": "637d3c9f-b9e0-40f5-a2ea-b725fd9a8664",
   "metadata": {},
   "outputs": [
    {
     "name": "stdout",
     "output_type": "stream",
     "text": [
      "{'JP Morgan Chase': 327, 'Bank of America': 302, 'Citigroup': 170, 'Wells Fargo': 273, 'Goldman Sachs': 87, 'Morgan Stanley': 72, 'U.S. Bancorp': 83, 'TD Bank': 108, 'PNC Financial Services': 67, 'Capital One': 47, 'FNB Corporation': 4, 'First Hawaiian Bank': 3, 'Ally Financial': 12, 'Wachovia': 145, 'Republic Bancorp': 0.97}\n"
     ]
    }
   ],
   "source": [
    "print(banks)"
   ]
  }
 ],
 "metadata": {
  "kernelspec": {
   "display_name": "Python 3 (ipykernel)",
   "language": "python",
   "name": "python3"
  },
  "language_info": {
   "codemirror_mode": {
    "name": "ipython",
    "version": 3
   },
   "file_extension": ".py",
   "mimetype": "text/x-python",
   "name": "python",
   "nbconvert_exporter": "python",
   "pygments_lexer": "ipython3",
   "version": "3.7.13"
  }
 },
 "nbformat": 4,
 "nbformat_minor": 5
}
