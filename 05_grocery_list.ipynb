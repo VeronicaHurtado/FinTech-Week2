{
 "cells": [
  {
   "cell_type": "code",
   "execution_count": 4,
   "id": "f7f4b6cc-3958-4365-9c52-e196d1b14827",
   "metadata": {},
   "outputs": [
    {
     "name": "stdout",
     "output_type": "stream",
     "text": [
      "['Water', 'Butter', 'Eggs', 'Apples', 'Cinnamon', 'Sugar', 'Milk']\n"
     ]
    }
   ],
   "source": [
    "# @TODO: Create a list of groceries\n",
    "groceries_list = [\"Water\", \"Butter\", \"Eggs\", \"Apples\", \"Cinnamon\", \"Sugar\", \"Milk\"]\n",
    "print(groceries_list)"
   ]
  },
  {
   "cell_type": "code",
   "execution_count": 3,
   "id": "e1416102-a30c-4009-990f-e81c1fe5b7d1",
   "metadata": {},
   "outputs": [
    {
     "name": "stdout",
     "output_type": "stream",
     "text": [
      "['Water', 'Butter']\n"
     ]
    }
   ],
   "source": [
    "# @TODO: Find the first two items on the list\n",
    "first_two = groceries_list[:2]\n",
    "print(first_two)"
   ]
  },
  {
   "cell_type": "code",
   "execution_count": 5,
   "id": "2a4ee1dc-71c6-4b4b-9e7b-9604d2b9e266",
   "metadata": {},
   "outputs": [
    {
     "name": "stdout",
     "output_type": "stream",
     "text": [
      "['Eggs', 'Apples', 'Cinnamon', 'Sugar', 'Milk']\n"
     ]
    }
   ],
   "source": [
    "# @TODO: Find the last five items on the list\n",
    "last_five = groceries_list[-5:]\n",
    "print(last_five)"
   ]
  },
  {
   "cell_type": "code",
   "execution_count": 7,
   "id": "a84a5dda-9cb7-4fdf-8d10-99890dfe3888",
   "metadata": {},
   "outputs": [
    {
     "name": "stdout",
     "output_type": "stream",
     "text": [
      "['Butter', 'Apples', 'Sugar']\n"
     ]
    }
   ],
   "source": [
    "# @TODO: Find every other item on the list, starting from the second item\n",
    "every_other = groceries_list[1::2]\n",
    "print(every_other)"
   ]
  },
  {
   "cell_type": "code",
   "execution_count": 8,
   "id": "30c8e79b-8bd5-4e8c-abf8-0b2b4ccfb766",
   "metadata": {},
   "outputs": [
    {
     "name": "stdout",
     "output_type": "stream",
     "text": [
      "['Water', 'Butter', 'Eggs', 'Apples', 'Cinnamon', 'Sugar', 'Milk', 'Bread']\n"
     ]
    }
   ],
   "source": [
    "# @TODO: Add an element to the end of the list\n",
    "groceries_list.append(\"Bread\")\n",
    "print(groceries_list)"
   ]
  },
  {
   "cell_type": "code",
   "execution_count": 9,
   "id": "75d3d535-b2c0-4c36-bfa9-c66196611af4",
   "metadata": {},
   "outputs": [
    {
     "name": "stdout",
     "output_type": "stream",
     "text": [
      "['Water', 'Butter', 'Eggs', 'Gala Apples', 'Cinnamon', 'Sugar', 'Milk', 'Bread']\n"
     ]
    }
   ],
   "source": [
    "# @TODO: Changes a specified element within the list at the given index\n",
    "groceries_list[3] = \"Gala Apples\"\n",
    "print(groceries_list)"
   ]
  },
  {
   "cell_type": "code",
   "execution_count": 10,
   "id": "c6b87ff8-ca1d-494b-8082-11c44a31877d",
   "metadata": {},
   "outputs": [
    {
     "name": "stdout",
     "output_type": "stream",
     "text": [
      "8\n"
     ]
    }
   ],
   "source": [
    "# @TODO: Calculate how many items you have in the list\n",
    "count_items = len(groceries_list)\n",
    "print(count_items)"
   ]
  },
  {
   "cell_type": "code",
   "execution_count": 12,
   "id": "28e179f9-57c2-4172-945f-99d674bf86c9",
   "metadata": {},
   "outputs": [
    {
     "name": "stdout",
     "output_type": "stream",
     "text": [
      "Find the index of gala apples.\n",
      "3\n"
     ]
    }
   ],
   "source": [
    "# @TODO: Find the index of the particular element name\n",
    "print('Find the index of gala apples.')\n",
    "print(groceries_list.index('Gala Apples'))"
   ]
  }
 ],
 "metadata": {
  "kernelspec": {
   "display_name": "Python 3 (ipykernel)",
   "language": "python",
   "name": "python3"
  },
  "language_info": {
   "codemirror_mode": {
    "name": "ipython",
    "version": 3
   },
   "file_extension": ".py",
   "mimetype": "text/x-python",
   "name": "python",
   "nbconvert_exporter": "python",
   "pygments_lexer": "ipython3",
   "version": "3.7.13"
  }
 },
 "nbformat": 4,
 "nbformat_minor": 5
}
