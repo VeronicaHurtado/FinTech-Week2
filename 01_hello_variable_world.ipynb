{
 "cells": [
  {
   "cell_type": "code",
   "execution_count": 1,
   "id": "5dd31971-dc84-4983-9182-3ac0c687be95",
   "metadata": {},
   "outputs": [],
   "source": [
    "# Create float variable for original_price\n",
    "original_price = 198.87"
   ]
  },
  {
   "cell_type": "code",
   "execution_count": 2,
   "id": "c422c394-370b-4f0d-9c16-f42979df70d9",
   "metadata": {},
   "outputs": [],
   "source": [
    "# Create float variable for current_price\n",
    "current_price = 254.32"
   ]
  },
  {
   "cell_type": "code",
   "execution_count": 3,
   "id": "dfcf6699-0e47-447b-bbe6-83a451769dfd",
   "metadata": {},
   "outputs": [],
   "source": [
    "# Calculate difference between current_price and original_price\n",
    "increase = current_price - original_price"
   ]
  },
  {
   "cell_type": "code",
   "execution_count": 5,
   "id": "bdef3d52-01c3-4b33-be18-60da1a45c747",
   "metadata": {},
   "outputs": [],
   "source": [
    "# Calculate percent_increase\n",
    "percent_increase = increase / original_price * 100"
   ]
  },
  {
   "cell_type": "code",
   "execution_count": 6,
   "id": "be726ab2-1f88-4c8d-9e11-68c8c0dbddd3",
   "metadata": {},
   "outputs": [
    {
     "name": "stdout",
     "output_type": "stream",
     "text": [
      "Apple's original stock price was $198.87\n"
     ]
    }
   ],
   "source": [
    "# Print original_price\n",
    "print(f\"Apple's original stock price was ${original_price}\")"
   ]
  },
  {
   "cell_type": "code",
   "execution_count": 16,
   "id": "edb0df84-df5c-482e-a48b-56ed2c147dd7",
   "metadata": {},
   "outputs": [
    {
     "name": "stdout",
     "output_type": "stream",
     "text": [
      "Apple's current stock price is $254.32\n"
     ]
    }
   ],
   "source": [
    "# Print current_price\n",
    "print(f\"Apple's current stock price is ${current_price}\")"
   ]
  },
  {
   "cell_type": "code",
   "execution_count": 19,
   "id": "591283d8-8668-4ce9-acc6-9a366288ae51",
   "metadata": {},
   "outputs": [
    {
     "name": "stdout",
     "output_type": "stream",
     "text": [
      "Apple's percentage increase is 27.88%\n"
     ]
    }
   ],
   "source": [
    "# Print percent_increase to 2 decimal places using string formatting\n",
    "print(f\"Apple's percentage increase is {percent_increase:.2f}%\")"
   ]
  },
  {
   "cell_type": "code",
   "execution_count": null,
   "id": "aba3ab9a-3e2a-42f2-8556-a8e22bae442a",
   "metadata": {},
   "outputs": [],
   "source": []
  }
 ],
 "metadata": {
  "kernelspec": {
   "display_name": "Python 3 (ipykernel)",
   "language": "python",
   "name": "python3"
  },
  "language_info": {
   "codemirror_mode": {
    "name": "ipython",
    "version": 3
   },
   "file_extension": ".py",
   "mimetype": "text/x-python",
   "name": "python",
   "nbconvert_exporter": "python",
   "pygments_lexer": "ipython3",
   "version": "3.7.13"
  }
 },
 "nbformat": 4,
 "nbformat_minor": 5
}
