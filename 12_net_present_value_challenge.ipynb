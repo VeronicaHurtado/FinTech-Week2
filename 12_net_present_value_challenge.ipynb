{
 "cells": [
  {
   "cell_type": "code",
   "execution_count": 6,
   "id": "8f635366-a894-4ba7-9e0f-1431da9662b4",
   "metadata": {},
   "outputs": [
    {
     "name": "stdout",
     "output_type": "stream",
     "text": [
      "Collecting numpy_financial\n",
      "  Using cached numpy_financial-1.0.0-py3-none-any.whl (14 kB)\n",
      "Requirement already satisfied: numpy>=1.15 in /Users/vhurtado/opt/anaconda3/envs/dev/lib/python3.7/site-packages (from numpy_financial) (1.21.5)\n",
      "Installing collected packages: numpy-financial\n",
      "Successfully installed numpy-financial-1.0.0\n"
     ]
    }
   ],
   "source": [
    "# Install the numpy_financial module. Run once!\n",
    "!pip install numpy_financial"
   ]
  },
  {
   "cell_type": "code",
   "execution_count": 7,
   "id": "6ed7cb27-945d-41b3-a74f-a50df22039db",
   "metadata": {},
   "outputs": [],
   "source": [
    "# -*- coding: utf-8 -*-\n",
    "\"\"\"Student Activity: Financial Analysis using NPV.\n",
    "\n",
    "This script will choose the optimal project scenario to\n",
    "undertake based on max NPV values.\n",
    "\"\"\"\n",
    "\n",
    "# @TODO: Import the NumPy Financial (numpy_financial) library\n",
    "# @TODO: You may need to run `pip install numpy-financial` in your terminal to install the library\n",
    "import numpy_financial as npf"
   ]
  },
  {
   "cell_type": "code",
   "execution_count": 9,
   "id": "45225e33-fb4b-4764-9abc-5e6ba2594873",
   "metadata": {},
   "outputs": [
    {
     "name": "stdout",
     "output_type": "stream",
     "text": [
      "Help on function npv in module numpy_financial._financial:\n",
      "\n",
      "npv(rate, values)\n",
      "    Returns the NPV (Net Present Value) of a cash flow series.\n",
      "    \n",
      "    Parameters\n",
      "    ----------\n",
      "    rate : scalar\n",
      "        The discount rate.\n",
      "    values : array_like, shape(M, )\n",
      "        The values of the time series of cash flows.  The (fixed) time\n",
      "        interval between cash flow \"events\" must be the same as that for\n",
      "        which `rate` is given (i.e., if `rate` is per year, then precisely\n",
      "        a year is understood to elapse between each cash flow event).  By\n",
      "        convention, investments or \"deposits\" are negative, income or\n",
      "        \"withdrawals\" are positive; `values` must begin with the initial\n",
      "        investment, thus `values[0]` will typically be negative.\n",
      "    \n",
      "    Returns\n",
      "    -------\n",
      "    out : float\n",
      "        The NPV of the input cash flow series `values` at the discount\n",
      "        `rate`.\n",
      "    \n",
      "    Warnings\n",
      "    --------\n",
      "    ``npv`` considers a series of cashflows starting in the present (t = 0).\n",
      "    NPV can also be defined with a series of future cashflows, paid at the\n",
      "    end, rather than the start, of each period. If future cashflows are used,\n",
      "    the first cashflow `values[0]` must be zeroed and added to the net\n",
      "    present value of the future cashflows. This is demonstrated in the\n",
      "    examples.\n",
      "    \n",
      "    Notes\n",
      "    -----\n",
      "    Returns the result of: [G]_\n",
      "    \n",
      "    .. math :: \\sum_{t=0}^{M-1}{\\frac{values_t}{(1+rate)^{t}}}\n",
      "    \n",
      "    References\n",
      "    ----------\n",
      "    .. [G] L. J. Gitman, \"Principles of Managerial Finance, Brief,\" 3rd ed.,\n",
      "       Addison-Wesley, 2003, pg. 346.\n",
      "    \n",
      "    Examples\n",
      "    --------\n",
      "    >>> import numpy as np\n",
      "    >>> import numpy_financial as npf\n",
      "    \n",
      "    Consider a potential project with an initial investment of $40 000 and\n",
      "    projected cashflows of $5 000, $8 000, $12 000 and $30 000 at the end of\n",
      "    each period discounted at a rate of 8% per period. To find the project's\n",
      "    net present value:\n",
      "    \n",
      "    >>> rate, cashflows = 0.08, [-40_000, 5_000, 8_000, 12_000, 30_000]\n",
      "    >>> npf.npv(rate, cashflows).round(5)\n",
      "    3065.22267\n",
      "    \n",
      "    It may be preferable to split the projected cashflow into an initial\n",
      "    investment and expected future cashflows. In this case, the value of\n",
      "    the initial cashflow is zero and the initial investment is later added\n",
      "    to the future cashflows net present value:\n",
      "    \n",
      "    >>> initial_cashflow = cashflows[0]\n",
      "    >>> cashflows[0] = 0\n",
      "    >>> np.round(npf.npv(rate, cashflows) + initial_cashflow, 5)\n",
      "    3065.22267\n",
      "\n"
     ]
    }
   ],
   "source": [
    "help(npf.npv)"
   ]
  },
  {
   "cell_type": "code",
   "execution_count": 10,
   "id": "afb413de-4c50-4ecd-ad7d-7324f4056f94",
   "metadata": {},
   "outputs": [],
   "source": [
    "# Discount Rate\n",
    "discount_rate = .1\n",
    "\n",
    "# Initial Investment, Cash Flow 1, Cash Flow 2, Cash Flow 3, Cash Flow 4\n",
    "cash_flows_conservative = [-1000, 400, 400, 400, 400]\n",
    "cash_flows_neutral = [-1500, 600, 600, 600, 600]\n",
    "cash_flows_aggressive = [-2250, 800, 800, 800, 800]"
   ]
  },
  {
   "cell_type": "code",
   "execution_count": 13,
   "id": "06ad91d0-2a00-449c-be04-0dad73ff9083",
   "metadata": {},
   "outputs": [],
   "source": [
    "# @TODO: Initialize dictionary to hold NPV return values\n",
    "npv_dict = {}\n",
    "\n",
    "# @TODO: Calculate the NPV for each scenario\n",
    "npv_dict['conservative'] = npf.npv(discount_rate, cash_flows_conservative)\n",
    "npv_dict['neutral'] = npf.npv(discount_rate, cash_flows_neutral)\n",
    "npv_dict['aggressive'] = npf.npv(discount_rate, cash_flows_aggressive)\n",
    "\n"
   ]
  },
  {
   "cell_type": "code",
   "execution_count": 17,
   "id": "b95d2f21-0780-419c-9cc4-2e1abf80d90d",
   "metadata": {},
   "outputs": [
    {
     "name": "stdout",
     "output_type": "stream",
     "text": [
      "{'conservative': 267.94617853971704, 'neutral': 401.91926780957544, 'aggressive': 285.8923570794341}\n",
      "The optimal project scenario to undertake is \"neutral\" with a NPV of 401.92\n"
     ]
    }
   ],
   "source": [
    "# @TODO: Manually Choose the project with the highest NPV value\n",
    "\n",
    "print(npv_dict)\n",
    "print(f'The optimal project scenario to undertake is \"neutral\" with a NPV of {npv_dict[\"neutral\"]:.2f}')"
   ]
  },
  {
   "cell_type": "code",
   "execution_count": null,
   "id": "3f66d574-1128-495d-8ea8-768db93fc358",
   "metadata": {},
   "outputs": [],
   "source": [
    "# Challenge!\n",
    "# @TODO: Iterate over npv_dict to find the max key-value pair\n",
    "\n",
    "\n",
    "# @TODO: Print out the optimal project scenario with the highest NPV value"
   ]
  }
 ],
 "metadata": {
  "kernelspec": {
   "display_name": "Python 3 (ipykernel)",
   "language": "python",
   "name": "python3"
  },
  "language_info": {
   "codemirror_mode": {
    "name": "ipython",
    "version": 3
   },
   "file_extension": ".py",
   "mimetype": "text/x-python",
   "name": "python",
   "nbconvert_exporter": "python",
   "pygments_lexer": "ipython3",
   "version": "3.7.13"
  }
 },
 "nbformat": 4,
 "nbformat_minor": 5
}
