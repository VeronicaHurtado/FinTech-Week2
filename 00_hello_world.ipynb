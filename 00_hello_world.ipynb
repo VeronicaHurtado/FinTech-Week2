{
 "cells": [
  {
   "cell_type": "code",
   "execution_count": 2,
   "id": "61d48157-d52d-4f25-a504-0bc9b1e91c4e",
   "metadata": {},
   "outputs": [
    {
     "name": "stdout",
     "output_type": "stream",
     "text": [
      "Hello World!\n"
     ]
    }
   ],
   "source": [
    "print(\"Hello World!\")"
   ]
  },
  {
   "cell_type": "code",
   "execution_count": 3,
   "id": "904786b9-1da5-40f7-bc6c-bc92694c89cf",
   "metadata": {},
   "outputs": [
    {
     "name": "stdout",
     "output_type": "stream",
     "text": [
      "Hello World from a new cell\n"
     ]
    }
   ],
   "source": [
    "print(\"Hello World from a new cell\")"
   ]
  },
  {
   "cell_type": "code",
   "execution_count": null,
   "id": "502a50cb-6ac6-4859-ab29-1f2a3894d01f",
   "metadata": {},
   "outputs": [],
   "source": []
  }
 ],
 "metadata": {
  "kernelspec": {
   "display_name": "Python 3 (ipykernel)",
   "language": "python",
   "name": "python3"
  },
  "language_info": {
   "codemirror_mode": {
    "name": "ipython",
    "version": 3
   },
   "file_extension": ".py",
   "mimetype": "text/x-python",
   "name": "python",
   "nbconvert_exporter": "python",
   "pygments_lexer": "ipython3",
   "version": "3.7.13"
  }
 },
 "nbformat": 4,
 "nbformat_minor": 5
}
