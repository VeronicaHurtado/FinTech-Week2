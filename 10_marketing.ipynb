{
 "cells": [
  {
   "cell_type": "code",
   "execution_count": 1,
   "id": "246bbbbe-16ff-4bee-8e0a-c3d2d2c3eb5f",
   "metadata": {},
   "outputs": [],
   "source": [
    "def create_greeting(first_name, last_name, revenue):\n",
    "    if revenue > 3000:\n",
    "        greeting = f'Hello, {first_name} {last_name}. Your revenue is {revenue}. Your are a Platinum member.'\n",
    "    elif revenue > 2000 and revenue <= 3000:\n",
    "        greeting = f'Hello, {first_name} {last_name}. Your revenue is {revenue}. Your are a Gold member.'\n",
    "    elif revenue > 1000 and revenue <= 2000:\n",
    "        greeting = f'Hello, {first_name} {last_name}. Your revenue is {revenue}. Your are a Silver member.'\n",
    "    else:\n",
    "        greeting = f'Hello, {first_name} {last_name}. Your revenue is {revenue}. Your are a Bronze member.'\n",
    "        \n",
    "    return greeting"
   ]
  },
  {
   "cell_type": "code",
   "execution_count": 3,
   "id": "864f87c2-a5b8-4748-9553-c4d86e2a74af",
   "metadata": {},
   "outputs": [
    {
     "data": {
      "text/plain": [
       "'Hello, Robbie Tapia. Your revenue is 2500. Your are a Gold member.'"
      ]
     },
     "execution_count": 3,
     "metadata": {},
     "output_type": "execute_result"
    }
   ],
   "source": [
    "create_greeting('Robbie', 'Tapia', 2500)"
   ]
  }
 ],
 "metadata": {
  "kernelspec": {
   "display_name": "Python 3 (ipykernel)",
   "language": "python",
   "name": "python3"
  },
  "language_info": {
   "codemirror_mode": {
    "name": "ipython",
    "version": 3
   },
   "file_extension": ".py",
   "mimetype": "text/x-python",
   "name": "python",
   "nbconvert_exporter": "python",
   "pygments_lexer": "ipython3",
   "version": "3.7.13"
  }
 },
 "nbformat": 4,
 "nbformat_minor": 5
}
