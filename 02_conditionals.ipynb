{
 "cells": [
  {
   "cell_type": "code",
   "execution_count": 1,
   "id": "cfe530ca-5d70-4e8f-a9f1-239c01fd7787",
   "metadata": {},
   "outputs": [
    {
     "name": "stdout",
     "output_type": "stream",
     "text": [
      "Oooo needs some work\n"
     ]
    }
   ],
   "source": [
    "# 1.\n",
    "x = 5\n",
    "y = 10\n",
    "if 2 * x > 10:\n",
    "    print(\"Question 1 works!\")\n",
    "else:\n",
    "    print(\"Oooo needs some work\")"
   ]
  },
  {
   "cell_type": "code",
   "execution_count": 2,
   "id": "f1610707-0379-435a-b3ef-59b39e24c612",
   "metadata": {},
   "outputs": [
    {
     "name": "stdout",
     "output_type": "stream",
     "text": [
      "Question 2 works!\n"
     ]
    }
   ],
   "source": [
    "# 2.\n",
    "x = 5\n",
    "y = 10\n",
    "if len(\"Dog\") < x:\n",
    "    print(\"Question 2 works!\")\n",
    "else:\n",
    "    print(\"Still missing out\")"
   ]
  },
  {
   "cell_type": "code",
   "execution_count": 3,
   "id": "ab962223-9e76-4359-b468-4dde9c28d3fa",
   "metadata": {},
   "outputs": [
    {
     "name": "stdout",
     "output_type": "stream",
     "text": [
      "You are of drinking age!\n"
     ]
    }
   ],
   "source": [
    "# 3.\n",
    "age = 21\n",
    "if age > 20:\n",
    "    print(\"You are of drinking age!\")\n",
    "else:\n",
    "    print(\"Argggggh! You think you can hoodwink me, matey?! You're too young to drink!\")"
   ]
  },
  {
   "cell_type": "code",
   "execution_count": 4,
   "id": "3d4ee98c-b6b5-46c7-a254-9d2e718373a9",
   "metadata": {},
   "outputs": [
    {
     "name": "stdout",
     "output_type": "stream",
     "text": [
      "GOT QUESTION 4!\n"
     ]
    }
   ],
   "source": [
    "# 4.\n",
    "x = 2\n",
    "y = 5\n",
    "if (x ** 3 >= y) and (y ** 2 < 26):\n",
    "    print(\"GOT QUESTION 4!\")\n",
    "else:\n",
    "    print(\"Oh good you can count\")"
   ]
  },
  {
   "cell_type": "code",
   "execution_count": 5,
   "id": "71968c16-40e0-407c-a6c2-d9a10cfc5cba",
   "metadata": {},
   "outputs": [
    {
     "data": {
      "text/plain": [
       "8"
      ]
     },
     "execution_count": 5,
     "metadata": {},
     "output_type": "execute_result"
    }
   ],
   "source": [
    "x ** 3"
   ]
  },
  {
   "cell_type": "code",
   "execution_count": 6,
   "id": "3a00b10b-9669-4a41-a97a-00bca7cc2dfe",
   "metadata": {},
   "outputs": [
    {
     "name": "stdout",
     "output_type": "stream",
     "text": [
      "Can ride bumper cars\n"
     ]
    }
   ],
   "source": [
    "# 5.\n",
    "height = 66\n",
    "age = 16\n",
    "adult_permission = True\n",
    "\n",
    "if (height > 70) and (age >= 18):\n",
    "    print(\"Can ride all the roller coasters\")\n",
    "elif (height > 65) and (age >= 18):\n",
    "    print(\"Can ride moderate roller coasters\")\n",
    "elif (height > 60) and (age >= 18):\n",
    "    print(\"Can ride light roller coasters\")\n",
    "elif ((height > 50) and (age >= 18)) or ((adult_permission) and (height > 50)):\n",
    "    print(\"Can ride bumper cars\")\n",
    "else:\n",
    "    print(\"Stick to lazy river\")"
   ]
  }
 ],
 "metadata": {
  "kernelspec": {
   "display_name": "Python 3 (ipykernel)",
   "language": "python",
   "name": "python3"
  },
  "language_info": {
   "codemirror_mode": {
    "name": "ipython",
    "version": 3
   },
   "file_extension": ".py",
   "mimetype": "text/x-python",
   "name": "python",
   "nbconvert_exporter": "python",
   "pygments_lexer": "ipython3",
   "version": "3.7.13"
  }
 },
 "nbformat": 4,
 "nbformat_minor": 5
}
