{
 "cells": [
  {
   "cell_type": "code",
   "execution_count": 1,
   "id": "b2a568bc-9146-43e7-a995-ca5b72830ae1",
   "metadata": {},
   "outputs": [],
   "source": [
    "def future_value(present_value, interest_rate, compunding_periods, num_of_years):\n",
    "    return present_value * (1+(interest_rate/compunding_periods))**(compunding_periods*num_of_years)"
   ]
  },
  {
   "cell_type": "code",
   "execution_count": 3,
   "id": "4e46b49a-0eb1-4208-a1fb-491f5ab59022",
   "metadata": {},
   "outputs": [],
   "source": [
    "def present_value(future_value, interest_rate, compunding_periods, num_of_years):\n",
    "    return future_value / (1+(interest_rate/compunding_periods))**(compunding_periods*num_of_years)"
   ]
  },
  {
   "cell_type": "code",
   "execution_count": 4,
   "id": "bb7bd7f9-dac0-4898-b2d6-c786b8c170cb",
   "metadata": {},
   "outputs": [],
   "source": [
    "# Intialize the zero-coupon bond parameters, assume compounding period is equal to 1\n",
    "price = 700\n",
    "future_value = 1000\n",
    "discount_rate = .1\n",
    "compounding_periods = 1\n",
    "years = 5"
   ]
  },
  {
   "cell_type": "code",
   "execution_count": 6,
   "id": "07db45c1-e9cc-4447-94b5-90b38ba5bd4c",
   "metadata": {},
   "outputs": [],
   "source": [
    "# Call the calculate_present_value() function and assign to a variables\n",
    "bond_value = present_value(future_value, discount_rate, compounding_periods, years)"
   ]
  },
  {
   "cell_type": "code",
   "execution_count": 12,
   "id": "06469637-13d4-4e86-93f6-ce98dc692c93",
   "metadata": {},
   "outputs": [
    {
     "name": "stdout",
     "output_type": "stream",
     "text": [
      "Bond value 620.92. This bond is selling at a premium. You should not buy!\n"
     ]
    }
   ],
   "source": [
    "if price < bond_value:\n",
    "    recommendation = f'Bond value {bond_value:.2f}. This bond is selling at a discount. You should buy!'\n",
    "elif price > bond_value:\n",
    "    recommendation = f'Bond value {bond_value:.2f}. This bond is selling at a premium. You should not buy!'\n",
    "else:\n",
    "    recommendation = f'Bond value {bond_value:.2f}. This bond is selling at its fair market value, you\\'re neutral to the decision.'\n",
    "    \n",
    "print(recommendation)    "
   ]
  },
  {
   "cell_type": "code",
   "execution_count": null,
   "id": "78912831-86d3-4b72-ba63-1a21dfae4e08",
   "metadata": {},
   "outputs": [],
   "source": []
  }
 ],
 "metadata": {
  "kernelspec": {
   "display_name": "Python 3 (ipykernel)",
   "language": "python",
   "name": "python3"
  },
  "language_info": {
   "codemirror_mode": {
    "name": "ipython",
    "version": 3
   },
   "file_extension": ".py",
   "mimetype": "text/x-python",
   "name": "python",
   "nbconvert_exporter": "python",
   "pygments_lexer": "ipython3",
   "version": "3.7.13"
  }
 },
 "nbformat": 4,
 "nbformat_minor": 5
}
